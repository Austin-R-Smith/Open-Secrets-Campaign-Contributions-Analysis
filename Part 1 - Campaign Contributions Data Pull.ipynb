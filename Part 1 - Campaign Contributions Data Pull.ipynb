{
 "cells": [
  {
   "cell_type": "code",
   "execution_count": 1,
   "id": "9d7f65c2",
   "metadata": {},
   "outputs": [],
   "source": [
    "# necessary imports\n",
    "from collections import Counter\n",
    "from collections import defaultdict\n",
    "import requests\n",
    "from bs4 import BeautifulSoup \n",
    "from bs4.element import Comment\n",
    "import re\n",
    "import pandas as pd\n",
    "from time import sleep\n",
    "from Open_Secrets_API import api_key\n",
    "from itertools import islice\n",
    "import json\n",
    "import ast"
   ]
  },
  {
   "cell_type": "markdown",
   "id": "51c00dfd",
   "metadata": {},
   "source": [
    "## Open Secrets: Analysis of Senators' Finances\n",
    "\n",
    "My goals for the second data analysis project are two-fold: 1) to dig into information about members of congress that is available from Open Secrets, and 2) to become familiar with the Open Secrets API as I'm hoping to use it to generate ideas for potential donor leads for the Montana Environmental Information Center as part of my capstone project.\n",
    "\n",
    "In part 1 of this project, I pull the names of contributing organizations and the amounts they contributed - both as individuals and via PACs - to each congress person in the US. Then I combine that data with information on each congress person's state, party, and whether they're a senator or representative (and which district they represent). \n",
    "\n",
    "In part 2, in the accompanying R Markdown file, I report my findings regarding which organizations contribute the most to each party, and which congress people are the most well-funded."
   ]
  },
  {
   "cell_type": "markdown",
   "id": "27da0ca2",
   "metadata": {},
   "source": [
    "### Part 1: Data Collection\n",
    "\n",
    "The Open Secrets API has assigned every congress person a unique ID (CID) that needs to be part of the search query for contributions to that congress person.  \n",
    "\n",
    "The CID can be scraped from the URL of each member's home page on the Open Secrets website. The following code accomplishes that scrape. "
   ]
  },
  {
   "cell_type": "code",
   "execution_count": 2,
   "id": "1f87bf51",
   "metadata": {},
   "outputs": [],
   "source": [
    "# take the CID numbers for every congressperson, plus their name\n",
    "\n",
    "# this site contains links to all members of congress's Open Secrets profiles\n",
    "url = \"https://www.opensecrets.org/members-of-congress/members-list?cong_no=117&cycle=2020\""
   ]
  },
  {
   "cell_type": "code",
   "execution_count": 3,
   "id": "eaa4dd0a",
   "metadata": {},
   "outputs": [],
   "source": [
    "reqs = requests.get(url)\n",
    "soup = BeautifulSoup(reqs.text,'html.parser')"
   ]
  },
  {
   "cell_type": "code",
   "execution_count": 4,
   "id": "813fbdfa",
   "metadata": {},
   "outputs": [],
   "source": [
    "# grabs all of links\n",
    "\n",
    "member_urls = []\n",
    "\n",
    "for link in soup.find_all('a'):\n",
    "    member_urls.append(link.get('href'))"
   ]
  },
  {
   "cell_type": "markdown",
   "id": "bce5fcc1",
   "metadata": {},
   "source": [
    "The links in the member_urls list provided all of the links from the webpage, many of which I did not need. They also, unfortunately, did not include the congress person's name with the CID. In a very blunt fashion, I copied/pasted the full list of alphabetically listed congress people into an excel spreadsheet. Then I copied/pasted the full list of CIDs in a column next to those names, so I could be sure that the CIDs aligned with the correct person. \n",
    "\n",
    "This approach was far from elegant, but it got the job done. I can now read in a file that contains the names of all congress people, their state, party, the district they represent, and their CID. I will use the names and CID columns to create a list that can be used to scrape the contribution information for each congressperson using the Open Secrets API."
   ]
  },
  {
   "cell_type": "code",
   "execution_count": 5,
   "id": "a5e3ff01",
   "metadata": {},
   "outputs": [],
   "source": [
    "# read in the excel to a pandas dataframe \n",
    "\n",
    "df_members = pd.read_excel('congress_CID.xlsx')"
   ]
  },
  {
   "cell_type": "code",
   "execution_count": 6,
   "id": "db1a610d",
   "metadata": {},
   "outputs": [
    {
     "data": {
      "text/html": [
       "<div>\n",
       "<style scoped>\n",
       "    .dataframe tbody tr th:only-of-type {\n",
       "        vertical-align: middle;\n",
       "    }\n",
       "\n",
       "    .dataframe tbody tr th {\n",
       "        vertical-align: top;\n",
       "    }\n",
       "\n",
       "    .dataframe thead th {\n",
       "        text-align: right;\n",
       "    }\n",
       "</style>\n",
       "<table border=\"1\" class=\"dataframe\">\n",
       "  <thead>\n",
       "    <tr style=\"text-align: right;\">\n",
       "      <th></th>\n",
       "      <th>politician</th>\n",
       "      <th>state</th>\n",
       "      <th>party</th>\n",
       "      <th>district</th>\n",
       "      <th>cid</th>\n",
       "    </tr>\n",
       "  </thead>\n",
       "  <tbody>\n",
       "    <tr>\n",
       "      <th>0</th>\n",
       "      <td>Ralph Abraham</td>\n",
       "      <td>Louisiana</td>\n",
       "      <td>Republican</td>\n",
       "      <td>District 5</td>\n",
       "      <td>N00036633</td>\n",
       "    </tr>\n",
       "    <tr>\n",
       "      <th>1</th>\n",
       "      <td>Alma Adams</td>\n",
       "      <td>North Carolina</td>\n",
       "      <td>Democrat</td>\n",
       "      <td>District 12</td>\n",
       "      <td>N00035451</td>\n",
       "    </tr>\n",
       "    <tr>\n",
       "      <th>2</th>\n",
       "      <td>Robert B Aderholt</td>\n",
       "      <td>Alabama</td>\n",
       "      <td>Republican</td>\n",
       "      <td>District 4</td>\n",
       "      <td>N00003028</td>\n",
       "    </tr>\n",
       "    <tr>\n",
       "      <th>3</th>\n",
       "      <td>Pete Aguilar</td>\n",
       "      <td>California</td>\n",
       "      <td>Democrat</td>\n",
       "      <td>District 31</td>\n",
       "      <td>N00033997</td>\n",
       "    </tr>\n",
       "    <tr>\n",
       "      <th>4</th>\n",
       "      <td>Lamar Alexander</td>\n",
       "      <td>Tennessee</td>\n",
       "      <td>Republican</td>\n",
       "      <td>Senate</td>\n",
       "      <td>N00009888</td>\n",
       "    </tr>\n",
       "  </tbody>\n",
       "</table>\n",
       "</div>"
      ],
      "text/plain": [
       "          politician           state       party      district        cid\n",
       "0      Ralph Abraham       Louisiana  Republican    District 5  N00036633\n",
       "1         Alma Adams  North Carolina    Democrat   District 12  N00035451\n",
       "2  Robert B Aderholt         Alabama  Republican    District 4  N00003028\n",
       "3       Pete Aguilar      California    Democrat   District 31  N00033997\n",
       "4    Lamar Alexander       Tennessee  Republican        Senate  N00009888"
      ]
     },
     "execution_count": 6,
     "metadata": {},
     "output_type": "execute_result"
    }
   ],
   "source": [
    "df_members.head()"
   ]
  },
  {
   "cell_type": "code",
   "execution_count": 7,
   "id": "16ec21e3",
   "metadata": {},
   "outputs": [],
   "source": [
    "df_members.to_csv('members.csv')"
   ]
  },
  {
   "cell_type": "code",
   "execution_count": 8,
   "id": "c3c855a0",
   "metadata": {},
   "outputs": [],
   "source": [
    "# pull the cids and names into a dictionary (CIDs are keys; names are values)\n",
    "cids = df_members.set_index('cid').to_dict()['politician']"
   ]
  },
  {
   "cell_type": "code",
   "execution_count": 9,
   "id": "e71cd95f",
   "metadata": {},
   "outputs": [],
   "source": [
    "# the Open Secret API only allows 200 requests per day, so I need to break up the\n",
    "# cids dictionary into three chunks (because there are a total of 535 members of congress)\n",
    "# I'll pull one list each day for three days in a row, writing them to files each day\n",
    "\n",
    "# This function splits the dictionary (taken from stack overflow, with slight edits)\n",
    "\n",
    "def split_dict_equally(input_dict, chunks=3):\n",
    "    \"Splits dict by keys. Returns a list of dictionaries.\"\n",
    "    # prep with empty dicts\n",
    "    return_list = [dict() for idx in range(chunks)]\n",
    "    idx = 0\n",
    "    for k,v in input_dict.items():\n",
    "        return_list[idx][k] = v\n",
    "        if idx < chunks-1:  # indexes start at 0\n",
    "            idx += 1\n",
    "        else:\n",
    "            idx = 0\n",
    "    return return_list\n",
    "\n"
   ]
  },
  {
   "cell_type": "code",
   "execution_count": 10,
   "id": "288cb23c",
   "metadata": {},
   "outputs": [],
   "source": [
    "split_cids = split_dict_equally(cids,chunks=3)"
   ]
  },
  {
   "cell_type": "code",
   "execution_count": 11,
   "id": "37600b7b",
   "metadata": {},
   "outputs": [],
   "source": [
    "first = split_cids[0]\n",
    "second = split_cids[1]\n",
    "third = split_cids[2]"
   ]
  },
  {
   "cell_type": "markdown",
   "id": "6b7415be",
   "metadata": {},
   "source": [
    "This data scrapes below pull the congress person's name as the key of the dictionary. The values of the dictionary are lists of tuples, which contain the contributing organization's name and the amounts it contributed as individuals, as PACs, and in total. "
   ]
  },
  {
   "cell_type": "code",
   "execution_count": 13,
   "id": "20e6c9c2",
   "metadata": {},
   "outputs": [],
   "source": [
    "# day 1 pull \n",
    "\n",
    "contribution_data_first = defaultdict(list)\n",
    "\n",
    "for key, politician in first.items() :\n",
    "    link = ''.join('https://www.opensecrets.org/api/?method=candContrib&cid=' + \n",
    "               key + \n",
    "               '&cycle=2020&apikey=' +\n",
    "               api_key)\n",
    "\n",
    "    r = requests.get(link)\n",
    "\n",
    "    if r.status_code == 200 :\n",
    "        soup = BeautifulSoup(r.text, 'xml')\n",
    "        \n",
    "        \n",
    "        for item in soup.find_all('contributor') :\n",
    "            org = item['org_name']\n",
    "            individ_contribs = item['indivs']\n",
    "            pac_contribs = item['pacs']\n",
    "            total_contribs = item['total']\n",
    "    \n",
    "            contribution_data_first[politician].append((org, individ_contribs, pac_contribs, total_contribs))\n",
    "    \n",
    "    else :\n",
    "        print(f\"We got code {r.status_code} for this linke: {link}\")\n",
    "       "
   ]
  },
  {
   "cell_type": "code",
   "execution_count": 12,
   "id": "68e7a1e4",
   "metadata": {},
   "outputs": [],
   "source": [
    "# day 2 pull \n",
    "\n",
    "contribution_data_second = defaultdict(list)\n",
    "\n",
    "for key, politician in second.items() :\n",
    "    link = ''.join('https://www.opensecrets.org/api/?method=candContrib&cid=' + \n",
    "               key + \n",
    "               '&cycle=2020&apikey=' +\n",
    "               api_key)\n",
    "\n",
    "    r = requests.get(link)\n",
    "\n",
    "    if r.status_code == 200 :\n",
    "        soup = BeautifulSoup(r.text, 'xml')\n",
    "        \n",
    "        \n",
    "        for item in soup.find_all('contributor') :\n",
    "            org = item['org_name']\n",
    "            individ_contribs = item['indivs']\n",
    "            pac_contribs = item['pacs']\n",
    "            total_contribs = item['total']\n",
    "    \n",
    "            contribution_data_second[politician].append((org, individ_contribs, pac_contribs, total_contribs))\n",
    "    \n",
    "    else :\n",
    "        print(f\"We got code {r.status_code} for this linke: {link}\")"
   ]
  },
  {
   "cell_type": "code",
   "execution_count": 12,
   "id": "a3cbd303",
   "metadata": {},
   "outputs": [],
   "source": [
    "# day 3 pull\n",
    "contribution_data_third = defaultdict(list)\n",
    "\n",
    "for key, politician in third.items() :\n",
    "    link = ''.join('https://www.opensecrets.org/api/?method=candContrib&cid=' + \n",
    "               key + \n",
    "               '&cycle=2020&apikey=' +\n",
    "               api_key)\n",
    "\n",
    "    r = requests.get(link)\n",
    "\n",
    "    if r.status_code == 200 :\n",
    "        soup = BeautifulSoup(r.text, 'xml')\n",
    "        \n",
    "        \n",
    "        for item in soup.find_all('contributor') :\n",
    "            org = item['org_name']\n",
    "            individ_contribs = item['indivs']\n",
    "            pac_contribs = item['pacs']\n",
    "            total_contribs = item['total']\n",
    "    \n",
    "            contribution_data_third[politician].append((org, individ_contribs, pac_contribs, total_contribs))\n",
    "    \n",
    "    else :\n",
    "        print(f\"We got code {r.status_code} for this linke: {link}\")"
   ]
  },
  {
   "cell_type": "code",
   "execution_count": 13,
   "id": "b6ba8dd1",
   "metadata": {},
   "outputs": [],
   "source": [
    "# Write to file (after each pull)\n",
    "\n",
    "with open('contribution_data_third.txt','w') as outfile:\n",
    "    #outfile.write('politician\\tcontributor\\tindividual_amount\\tPAC_amount\\ttotal_amount\\n')\n",
    "    \n",
    "    \n",
    "    for politician in contribution_data_third :\n",
    "        for data_tuple in contribution_data_third[politician] :\n",
    "            \n",
    "            out_line = [politician]\n",
    "            out_line.extend(data_tuple)\n",
    "            \n",
    "            outfile.write('\\t'.join(out_line)+'\\n')"
   ]
  },
  {
   "cell_type": "code",
   "execution_count": 14,
   "id": "0d4a1c11",
   "metadata": {},
   "outputs": [],
   "source": [
    "# combine the data frame the three pulls\n",
    "filenames = ['contribution_data_first.txt', 'contribution_data_second.txt', 'contribution_data_third.txt']\n",
    "  \n",
    "with open('contribution_data.txt', 'w') as outfile:\n",
    "    \n",
    "    for names in filenames:\n",
    "        with open(names) as infile:\n",
    "            outfile.write(infile.read())"
   ]
  },
  {
   "cell_type": "code",
   "execution_count": 15,
   "id": "4b004dc1",
   "metadata": {},
   "outputs": [],
   "source": [
    "df = pd.read_csv('contribution_data.txt', sep = '\\t')"
   ]
  },
  {
   "cell_type": "code",
   "execution_count": 16,
   "id": "7d33dae8",
   "metadata": {},
   "outputs": [
    {
     "data": {
      "text/html": [
       "<div>\n",
       "<style scoped>\n",
       "    .dataframe tbody tr th:only-of-type {\n",
       "        vertical-align: middle;\n",
       "    }\n",
       "\n",
       "    .dataframe tbody tr th {\n",
       "        vertical-align: top;\n",
       "    }\n",
       "\n",
       "    .dataframe thead th {\n",
       "        text-align: right;\n",
       "    }\n",
       "</style>\n",
       "<table border=\"1\" class=\"dataframe\">\n",
       "  <thead>\n",
       "    <tr style=\"text-align: right;\">\n",
       "      <th></th>\n",
       "      <th>politician</th>\n",
       "      <th>state</th>\n",
       "      <th>party</th>\n",
       "      <th>district</th>\n",
       "      <th>cid</th>\n",
       "    </tr>\n",
       "  </thead>\n",
       "  <tbody>\n",
       "    <tr>\n",
       "      <th>0</th>\n",
       "      <td>Ralph Abraham</td>\n",
       "      <td>Louisiana</td>\n",
       "      <td>Republican</td>\n",
       "      <td>District 5</td>\n",
       "      <td>N00036633</td>\n",
       "    </tr>\n",
       "    <tr>\n",
       "      <th>1</th>\n",
       "      <td>Alma Adams</td>\n",
       "      <td>North Carolina</td>\n",
       "      <td>Democrat</td>\n",
       "      <td>District 12</td>\n",
       "      <td>N00035451</td>\n",
       "    </tr>\n",
       "    <tr>\n",
       "      <th>2</th>\n",
       "      <td>Robert B Aderholt</td>\n",
       "      <td>Alabama</td>\n",
       "      <td>Republican</td>\n",
       "      <td>District 4</td>\n",
       "      <td>N00003028</td>\n",
       "    </tr>\n",
       "    <tr>\n",
       "      <th>3</th>\n",
       "      <td>Pete Aguilar</td>\n",
       "      <td>California</td>\n",
       "      <td>Democrat</td>\n",
       "      <td>District 31</td>\n",
       "      <td>N00033997</td>\n",
       "    </tr>\n",
       "    <tr>\n",
       "      <th>4</th>\n",
       "      <td>Lamar Alexander</td>\n",
       "      <td>Tennessee</td>\n",
       "      <td>Republican</td>\n",
       "      <td>Senate</td>\n",
       "      <td>N00009888</td>\n",
       "    </tr>\n",
       "  </tbody>\n",
       "</table>\n",
       "</div>"
      ],
      "text/plain": [
       "          politician           state       party      district        cid\n",
       "0      Ralph Abraham       Louisiana  Republican    District 5  N00036633\n",
       "1         Alma Adams  North Carolina    Democrat   District 12  N00035451\n",
       "2  Robert B Aderholt         Alabama  Republican    District 4  N00003028\n",
       "3       Pete Aguilar      California    Democrat   District 31  N00033997\n",
       "4    Lamar Alexander       Tennessee  Republican        Senate  N00009888"
      ]
     },
     "execution_count": 16,
     "metadata": {},
     "output_type": "execute_result"
    }
   ],
   "source": [
    "df_members.head()"
   ]
  },
  {
   "cell_type": "code",
   "execution_count": 17,
   "id": "1c973c9c",
   "metadata": {},
   "outputs": [
    {
     "data": {
      "text/html": [
       "<div>\n",
       "<style scoped>\n",
       "    .dataframe tbody tr th:only-of-type {\n",
       "        vertical-align: middle;\n",
       "    }\n",
       "\n",
       "    .dataframe tbody tr th {\n",
       "        vertical-align: top;\n",
       "    }\n",
       "\n",
       "    .dataframe thead th {\n",
       "        text-align: right;\n",
       "    }\n",
       "</style>\n",
       "<table border=\"1\" class=\"dataframe\">\n",
       "  <thead>\n",
       "    <tr style=\"text-align: right;\">\n",
       "      <th></th>\n",
       "      <th>politician</th>\n",
       "      <th>state</th>\n",
       "      <th>party</th>\n",
       "      <th>district</th>\n",
       "      <th>cid</th>\n",
       "      <th>contributor</th>\n",
       "      <th>individual_amount</th>\n",
       "      <th>PAC_amount</th>\n",
       "      <th>total_amount</th>\n",
       "    </tr>\n",
       "  </thead>\n",
       "  <tbody>\n",
       "    <tr>\n",
       "      <th>0</th>\n",
       "      <td>Robert B Aderholt</td>\n",
       "      <td>Alabama</td>\n",
       "      <td>Republican</td>\n",
       "      <td>District 4</td>\n",
       "      <td>N00003028</td>\n",
       "      <td>McWane Inc</td>\n",
       "      <td>38700</td>\n",
       "      <td>0</td>\n",
       "      <td>38700</td>\n",
       "    </tr>\n",
       "    <tr>\n",
       "      <th>1</th>\n",
       "      <td>Robert B Aderholt</td>\n",
       "      <td>Alabama</td>\n",
       "      <td>Republican</td>\n",
       "      <td>District 4</td>\n",
       "      <td>N00003028</td>\n",
       "      <td>Collazo Enterprises</td>\n",
       "      <td>22400</td>\n",
       "      <td>0</td>\n",
       "      <td>22400</td>\n",
       "    </tr>\n",
       "    <tr>\n",
       "      <th>2</th>\n",
       "      <td>Robert B Aderholt</td>\n",
       "      <td>Alabama</td>\n",
       "      <td>Republican</td>\n",
       "      <td>District 4</td>\n",
       "      <td>N00003028</td>\n",
       "      <td>Southern Co</td>\n",
       "      <td>4309</td>\n",
       "      <td>10000</td>\n",
       "      <td>14309</td>\n",
       "    </tr>\n",
       "    <tr>\n",
       "      <th>3</th>\n",
       "      <td>Robert B Aderholt</td>\n",
       "      <td>Alabama</td>\n",
       "      <td>Republican</td>\n",
       "      <td>District 4</td>\n",
       "      <td>N00003028</td>\n",
       "      <td>Leidos Inc</td>\n",
       "      <td>800</td>\n",
       "      <td>13000</td>\n",
       "      <td>13800</td>\n",
       "    </tr>\n",
       "    <tr>\n",
       "      <th>4</th>\n",
       "      <td>Robert B Aderholt</td>\n",
       "      <td>Alabama</td>\n",
       "      <td>Republican</td>\n",
       "      <td>District 4</td>\n",
       "      <td>N00003028</td>\n",
       "      <td>Maynard, Cooper &amp; Gale</td>\n",
       "      <td>3200</td>\n",
       "      <td>10000</td>\n",
       "      <td>13200</td>\n",
       "    </tr>\n",
       "  </tbody>\n",
       "</table>\n",
       "</div>"
      ],
      "text/plain": [
       "          politician    state       party     district        cid  \\\n",
       "0  Robert B Aderholt  Alabama  Republican   District 4  N00003028   \n",
       "1  Robert B Aderholt  Alabama  Republican   District 4  N00003028   \n",
       "2  Robert B Aderholt  Alabama  Republican   District 4  N00003028   \n",
       "3  Robert B Aderholt  Alabama  Republican   District 4  N00003028   \n",
       "4  Robert B Aderholt  Alabama  Republican   District 4  N00003028   \n",
       "\n",
       "              contributor  individual_amount  PAC_amount  total_amount  \n",
       "0              McWane Inc              38700           0         38700  \n",
       "1     Collazo Enterprises              22400           0         22400  \n",
       "2             Southern Co               4309       10000         14309  \n",
       "3              Leidos Inc                800       13000         13800  \n",
       "4  Maynard, Cooper & Gale               3200       10000         13200  "
      ]
     },
     "execution_count": 17,
     "metadata": {},
     "output_type": "execute_result"
    }
   ],
   "source": [
    "# add in the party, state, and district to the dataframe to the contribution info\n",
    "contribution_data = df_members.merge(df)\n",
    "contribution_data.head()"
   ]
  },
  {
   "cell_type": "code",
   "execution_count": 18,
   "id": "851d7153",
   "metadata": {},
   "outputs": [],
   "source": [
    "# write the df to a csv to be analyzed in R\n",
    "\n",
    "contribution_data.to_csv('contribution_data.csv')"
   ]
  },
  {
   "cell_type": "markdown",
   "id": "4f9bba4a",
   "metadata": {},
   "source": [
    "## Part 2: please see R Markdown Notebook \"Data Engineering Project 2 - Campaign Contribution Analysis\" "
   ]
  }
 ],
 "metadata": {
  "kernelspec": {
   "display_name": "Python 3",
   "language": "python",
   "name": "python3"
  },
  "language_info": {
   "codemirror_mode": {
    "name": "ipython",
    "version": 3
   },
   "file_extension": ".py",
   "mimetype": "text/x-python",
   "name": "python",
   "nbconvert_exporter": "python",
   "pygments_lexer": "ipython3",
   "version": "3.8.8"
  }
 },
 "nbformat": 4,
 "nbformat_minor": 5
}
